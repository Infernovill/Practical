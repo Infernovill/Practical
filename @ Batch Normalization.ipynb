{
 "cells": [
  {
   "cell_type": "code",
   "execution_count": 1,
   "id": "4eff81f9",
   "metadata": {},
   "outputs": [
    {
     "name": "stdout",
     "output_type": "stream",
     "text": [
      "Requirement already satisfied: extra_keras_datasets in c:\\users\\rafyq\\anaconda3\\lib\\site-packages (1.2.0)\n",
      "Requirement already satisfied: scikit-learn in c:\\users\\rafyq\\anaconda3\\lib\\site-packages (from extra_keras_datasets) (0.24.1)\n",
      "Requirement already satisfied: numpy in c:\\users\\rafyq\\anaconda3\\lib\\site-packages (from extra_keras_datasets) (1.20.1)\n",
      "Requirement already satisfied: scipy in c:\\users\\rafyq\\anaconda3\\lib\\site-packages (from extra_keras_datasets) (1.6.2)\n",
      "Requirement already satisfied: pandas in c:\\users\\rafyq\\anaconda3\\lib\\site-packages (from extra_keras_datasets) (1.2.4)\n",
      "Requirement already satisfied: python-dateutil>=2.7.3 in c:\\users\\rafyq\\anaconda3\\lib\\site-packages (from pandas->extra_keras_datasets) (2.8.1)\n",
      "Requirement already satisfied: pytz>=2017.3 in c:\\users\\rafyq\\anaconda3\\lib\\site-packages (from pandas->extra_keras_datasets) (2021.1)\n",
      "Requirement already satisfied: six>=1.5 in c:\\users\\rafyq\\anaconda3\\lib\\site-packages (from python-dateutil>=2.7.3->pandas->extra_keras_datasets) (1.15.0)\n",
      "Requirement already satisfied: threadpoolctl>=2.0.0 in c:\\users\\rafyq\\anaconda3\\lib\\site-packages (from scikit-learn->extra_keras_datasets) (2.1.0)\n",
      "Requirement already satisfied: joblib>=0.11 in c:\\users\\rafyq\\anaconda3\\lib\\site-packages (from scikit-learn->extra_keras_datasets) (1.0.1)\n"
     ]
    }
   ],
   "source": [
    "! pip install extra_keras_datasets"
   ]
  },
  {
   "cell_type": "code",
   "execution_count": 2,
   "id": "e6f85e88",
   "metadata": {},
   "outputs": [],
   "source": [
    "from extra_keras_datasets import kmnist\n",
    "import tensorflow\n",
    "from tensorflow.keras.models import Sequential\n",
    "from tensorflow.keras.layers import Dense, Flatten\n",
    "from tensorflow.keras.layers import Conv2D, MaxPooling2D\n",
    "from tensorflow.keras.layers import BatchNormalization"
   ]
  },
  {
   "cell_type": "code",
   "execution_count": 3,
   "id": "76c79cdd",
   "metadata": {},
   "outputs": [],
   "source": [
    "# Model configuration\n",
    "batch_size = 250\n",
    "no_epochs = 25\n",
    "no_classes = 10\n",
    "validation_split = 0.2\n",
    "verbosity = 1"
   ]
  },
  {
   "cell_type": "code",
   "execution_count": 4,
   "id": "c76c7e35",
   "metadata": {},
   "outputs": [],
   "source": [
    "from keras.datasets import mnist"
   ]
  },
  {
   "cell_type": "code",
   "execution_count": 5,
   "id": "649066b3",
   "metadata": {},
   "outputs": [],
   "source": [
    "# Loading KMNIST dataset\n",
    "(input_train, target_train), (input_test, target_test) = mnist.load_data()"
   ]
  },
  {
   "cell_type": "code",
   "execution_count": 6,
   "id": "e1eae594",
   "metadata": {},
   "outputs": [],
   "source": [
    "# Shape of the input sets\n",
    "input_train_shape = input_train.shape\n",
    "input_test_shape = input_test.shape"
   ]
  },
  {
   "cell_type": "code",
   "execution_count": 7,
   "id": "a3dbb8d0",
   "metadata": {},
   "outputs": [],
   "source": [
    "# Keras layer input shape\n",
    "input_shape = (input_train_shape[1], input_train_shape[2], 1)"
   ]
  },
  {
   "cell_type": "code",
   "execution_count": 8,
   "id": "233c2c0b",
   "metadata": {},
   "outputs": [],
   "source": [
    "# Reshaping the training data to include channels\n",
    "input_train = input_train.reshape(input_train_shape[0], input_train_shape[1], input_train_shape[2], 1)\n",
    "input_test = input_test.reshape(input_test_shape[0], input_test_shape[1], input_test_shape[2], 1)"
   ]
  },
  {
   "cell_type": "code",
   "execution_count": 9,
   "id": "1badb003",
   "metadata": {},
   "outputs": [],
   "source": [
    "# Parsing numbers as floats\n",
    "input_train = input_train.astype('float32')\n",
    "input_test = input_test.astype('float32')"
   ]
  },
  {
   "cell_type": "code",
   "execution_count": 10,
   "id": "235f8329",
   "metadata": {},
   "outputs": [],
   "source": [
    "# Normalizing input data\n",
    "input_train = input_train / 255\n",
    "input_test = input_test / 255"
   ]
  },
  {
   "cell_type": "code",
   "execution_count": 11,
   "id": "28164e1f",
   "metadata": {},
   "outputs": [],
   "source": [
    "# Creating the model\n",
    "model = Sequential()\n",
    "model.add(Conv2D(32, kernel_size=(3, 3), activation='relu', input_shape=input_shape))\n",
    "model.add(BatchNormalization())\n",
    "model.add(MaxPooling2D(pool_size=(2, 2)))\n",
    "model.add(BatchNormalization())\n",
    "model.add(Conv2D(64, kernel_size=(3, 3), activation='relu'))\n",
    "model.add(BatchNormalization())\n",
    "model.add(MaxPooling2D(pool_size=(2, 2)))\n",
    "model.add(BatchNormalization())\n",
    "model.add(Flatten())\n",
    "model.add(Dense(256, activation='relu'))\n",
    "model.add(BatchNormalization())\n",
    "model.add(Dense(no_classes, activation='softmax'))"
   ]
  },
  {
   "cell_type": "code",
   "execution_count": 12,
   "id": "3b954bfb",
   "metadata": {},
   "outputs": [],
   "source": [
    "# Compiling the model\n",
    "model.compile(loss=tensorflow.keras.losses.sparse_categorical_crossentropy,\n",
    "              optimizer=tensorflow.keras.optimizers.Adam(),\n",
    "              metrics=['accuracy'])"
   ]
  },
  {
   "cell_type": "code",
   "execution_count": 13,
   "id": "d3597c9f",
   "metadata": {},
   "outputs": [
    {
     "name": "stdout",
     "output_type": "stream",
     "text": [
      "Epoch 1/25\n",
      "192/192 [==============================] - 248s 1s/step - loss: 0.1225 - accuracy: 0.9630 - val_loss: 4.7744 - val_accuracy: 0.1060\n",
      "Epoch 2/25\n",
      "192/192 [==============================] - 248s 1s/step - loss: 0.0281 - accuracy: 0.9922 - val_loss: 1.7732 - val_accuracy: 0.5188\n",
      "Epoch 3/25\n",
      "192/192 [==============================] - 257s 1s/step - loss: 0.0133 - accuracy: 0.9966 - val_loss: 0.1548 - val_accuracy: 0.9537\n",
      "Epoch 4/25\n",
      "192/192 [==============================] - 231s 1s/step - loss: 0.0069 - accuracy: 0.9986 - val_loss: 0.0475 - val_accuracy: 0.9868\n",
      "Epoch 5/25\n",
      "192/192 [==============================] - 201s 1s/step - loss: 0.0032 - accuracy: 0.9996 - val_loss: 0.0349 - val_accuracy: 0.9894\n",
      "Epoch 6/25\n",
      "192/192 [==============================] - 170s 887ms/step - loss: 0.0013 - accuracy: 0.9999 - val_loss: 0.0341 - val_accuracy: 0.9897\n",
      "Epoch 7/25\n",
      "192/192 [==============================] - 143s 742ms/step - loss: 6.8903e-04 - accuracy: 1.0000 - val_loss: 0.0296 - val_accuracy: 0.9920\n",
      "Epoch 8/25\n",
      "192/192 [==============================] - 164s 855ms/step - loss: 3.6649e-04 - accuracy: 1.0000 - val_loss: 0.0301 - val_accuracy: 0.9919\n",
      "Epoch 9/25\n",
      "192/192 [==============================] - 121s 632ms/step - loss: 2.7514e-04 - accuracy: 1.0000 - val_loss: 0.0298 - val_accuracy: 0.9923\n",
      "Epoch 10/25\n",
      "192/192 [==============================] - 122s 636ms/step - loss: 2.3270e-04 - accuracy: 1.0000 - val_loss: 0.0304 - val_accuracy: 0.9923\n",
      "Epoch 11/25\n",
      "192/192 [==============================] - 139s 722ms/step - loss: 1.8396e-04 - accuracy: 1.0000 - val_loss: 0.0307 - val_accuracy: 0.9920\n",
      "Epoch 12/25\n",
      "192/192 [==============================] - 127s 660ms/step - loss: 1.5278e-04 - accuracy: 1.0000 - val_loss: 0.0306 - val_accuracy: 0.9923\n",
      "Epoch 13/25\n",
      "192/192 [==============================] - 126s 657ms/step - loss: 1.2209e-04 - accuracy: 1.0000 - val_loss: 0.0308 - val_accuracy: 0.9923\n",
      "Epoch 14/25\n",
      "192/192 [==============================] - 130s 676ms/step - loss: 1.0745e-04 - accuracy: 1.0000 - val_loss: 0.0307 - val_accuracy: 0.9925\n",
      "Epoch 15/25\n",
      "192/192 [==============================] - 131s 683ms/step - loss: 9.1814e-05 - accuracy: 1.0000 - val_loss: 0.0310 - val_accuracy: 0.9925\n",
      "Epoch 16/25\n",
      "192/192 [==============================] - 132s 686ms/step - loss: 8.1444e-05 - accuracy: 1.0000 - val_loss: 0.0312 - val_accuracy: 0.9923\n",
      "Epoch 17/25\n",
      "192/192 [==============================] - 154s 805ms/step - loss: 7.1451e-05 - accuracy: 1.0000 - val_loss: 0.0310 - val_accuracy: 0.9928\n",
      "Epoch 18/25\n",
      "192/192 [==============================] - 175s 913ms/step - loss: 6.0205e-05 - accuracy: 1.0000 - val_loss: 0.0314 - val_accuracy: 0.9924\n",
      "Epoch 19/25\n",
      "192/192 [==============================] - 199s 1s/step - loss: 5.3026e-05 - accuracy: 1.0000 - val_loss: 0.0317 - val_accuracy: 0.9922\n",
      "Epoch 20/25\n",
      "192/192 [==============================] - 173s 901ms/step - loss: 4.7099e-05 - accuracy: 1.0000 - val_loss: 0.0319 - val_accuracy: 0.9923\n",
      "Epoch 21/25\n",
      "192/192 [==============================] - 204s 1s/step - loss: 3.8788e-05 - accuracy: 1.0000 - val_loss: 0.0321 - val_accuracy: 0.9923\n",
      "Epoch 22/25\n",
      "192/192 [==============================] - 174s 903ms/step - loss: 3.6134e-05 - accuracy: 1.0000 - val_loss: 0.0322 - val_accuracy: 0.9925\n",
      "Epoch 23/25\n",
      "192/192 [==============================] - 171s 889ms/step - loss: 3.0264e-05 - accuracy: 1.0000 - val_loss: 0.0324 - val_accuracy: 0.9924\n",
      "Epoch 24/25\n",
      "192/192 [==============================] - 159s 828ms/step - loss: 2.7475e-05 - accuracy: 1.0000 - val_loss: 0.0328 - val_accuracy: 0.9923\n",
      "Epoch 25/25\n",
      "192/192 [==============================] - 150s 783ms/step - loss: 2.4587e-05 - accuracy: 1.0000 - val_loss: 0.0329 - val_accuracy: 0.9923\n"
     ]
    }
   ],
   "source": [
    "# Fitting data to model\n",
    "history = model.fit(input_train, target_train,\n",
    "            batch_size=batch_size,\n",
    "            epochs=no_epochs,\n",
    "            verbose=verbosity,\n",
    "            validation_split=validation_split)"
   ]
  },
  {
   "cell_type": "code",
   "execution_count": 14,
   "id": "9f9f54ac",
   "metadata": {},
   "outputs": [
    {
     "name": "stdout",
     "output_type": "stream",
     "text": [
      "Test loss: 0.03310513123869896 / Test accuracy: 0.9918000102043152\n"
     ]
    }
   ],
   "source": [
    "# Generating generalization metric  s\n",
    "score = model.evaluate(input_test, target_test, verbose=0)\n",
    "print(f'Test loss: {score[0]} / Test accuracy: {score[1]}')"
   ]
  },
  {
   "cell_type": "code",
   "execution_count": null,
   "id": "a2b003b0",
   "metadata": {},
   "outputs": [],
   "source": []
  }
 ],
 "metadata": {
  "kernelspec": {
   "display_name": "Python 3",
   "language": "python",
   "name": "python3"
  },
  "language_info": {
   "codemirror_mode": {
    "name": "ipython",
    "version": 3
   },
   "file_extension": ".py",
   "mimetype": "text/x-python",
   "name": "python",
   "nbconvert_exporter": "python",
   "pygments_lexer": "ipython3",
   "version": "3.8.8"
  }
 },
 "nbformat": 4,
 "nbformat_minor": 5
}
